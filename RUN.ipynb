{
 "cells": [
  {
   "cell_type": "code",
   "execution_count": 1,
   "metadata": {
    "collapsed": false
   },
   "outputs": [],
   "source": [
    "from utils import *\n",
    "import numpy as np\n",
    "\n",
    "remove_if_any(POS_FILE)\n",
    "remove_if_any(NEG_FILE)"
   ]
  },
  {
   "cell_type": "code",
   "execution_count": 2,
   "metadata": {
    "collapsed": false
   },
   "outputs": [
    {
     "name": "stdout",
     "output_type": "stream",
     "text": [
      "0/4506\n",
      "1000/4506\n",
      "2000/4506\n",
      "3000/4506\n",
      "4000/4506\n",
      "['b\"Monkey\\'s Lunch\"', 3.7, 14, [['3.0', 'cl de', 'liqueur de cafĂŠ (kahlua, marie brizard)'], ['3.0', 'cl de', 'crĂ¨me de bananes'], ['12.0', 'cl de', 'lait']]]\n"
     ]
    }
   ],
   "source": [
    "recipes = get_recipe_and_rating(get_cocktail_list())\n",
    "print(recipes[0])"
   ]
  },
  {
   "cell_type": "code",
   "execution_count": 3,
   "metadata": {
    "collapsed": false
   },
   "outputs": [
    {
     "name": "stdout",
     "output_type": "stream",
     "text": [
      "liqueur de cafĂŠ (kahlua, marie brizard). crĂ¨me de bananes. lait\n"
     ]
    }
   ],
   "source": [
    "# Save only text descriptions.\n",
    "descriptions = []\n",
    "for recipe in recipes:\n",
    "    descriptions.append('. '.join([v[2] for v in recipe[3]]))\n",
    "print(descriptions[0])"
   ]
  },
  {
   "cell_type": "code",
   "execution_count": 4,
   "metadata": {
    "collapsed": false
   },
   "outputs": [
    {
     "name": "stdout",
     "output_type": "stream",
     "text": [
      "3.37057256991\n"
     ]
    }
   ],
   "source": [
    "labels = np.array([v[1] for v in recipes])\n",
    "mean_label = np.mean(labels.flatten())\n",
    "print(mean_label)"
   ]
  },
  {
   "cell_type": "code",
   "execution_count": 5,
   "metadata": {
    "collapsed": false
   },
   "outputs": [],
   "source": [
    "for i in range((len(labels))):\n",
    "    if labels[i] > mean_label:\n",
    "        write_to_file(POS_FILE, descriptions[i])\n",
    "    else:\n",
    "        write_to_file(NEG_FILE, descriptions[i])"
   ]
  },
  {
   "cell_type": "code",
   "execution_count": 6,
   "metadata": {
    "collapsed": false
   },
   "outputs": [
    {
     "name": "stdout",
     "output_type": "stream",
     "text": [
      "liqueur de cafĂŠ (kahlua, marie brizard). crĂ¨me de bananes. lait\n",
      "\n"
     ]
    }
   ],
   "source": [
    "print(open(POS_FILE, 'r').readlines()[0]) # FOR ONE COCKTAIL."
   ]
  },
  {
   "cell_type": "code",
   "execution_count": 7,
   "metadata": {
    "collapsed": true
   },
   "outputs": [],
   "source": [
    "TUPLE_LENGTH = 10\n",
    "\n",
    "for filename in [POS_FILE, NEG_FILE]:\n",
    "    if TUPLE_LENGTH > 1:\n",
    "        read_and_write(filename, filename + '.w', tuple_length=TUPLE_LENGTH)\n",
    "        os.rename(filename + '.w', filename)\n"
   ]
  },
  {
   "cell_type": "code",
   "execution_count": 8,
   "metadata": {
    "collapsed": false
   },
   "outputs": [
    {
     "name": "stdout",
     "output_type": "stream",
     "text": [
      "lait liqueur_cafĂŠ_(kahlua,_marie_brizard) crĂ¨me_bananes crĂ¨me_bananes+lait lait+liqueur_cafĂŠ_(kahlua,_marie_brizard) crĂ¨me_bananes+liqueur_cafĂŠ_(kahlua,_marie_brizard) crĂ¨me_bananes+lait+liqueur_cafĂŠ_(kahlua,_marie_brizard)        \n",
      "\n"
     ]
    }
   ],
   "source": [
    "print(open(POS_FILE, 'r').readlines()[0]) # FOR ONE COCKTAIL. ALL POSSIBLE COMBINATIONS."
   ]
  },
  {
   "cell_type": "code",
   "execution_count": 9,
   "metadata": {
    "collapsed": false
   },
   "outputs": [
    {
     "name": "stdout",
     "output_type": "stream",
     "text": [
      "using all words as features\n",
      "train on 3378 instances, test on 1128 instances\n",
      "accuracy: 0.5673758865248227\n",
      "Most Informative Features\n",
      "            vin_mousseux = True              neg : pos    =      8.6 : 1.0\n",
      "champagne+sirop_sucre_canne = True              neg : pos    =      8.4 : 1.0\n",
      "      rhum_blanc+vanille = True              neg : pos    =      8.4 : 1.0\n",
      "           chocolat+lait = True              pos : neg    =      8.3 : 1.0\n",
      "                vin_rosé = True              neg : pos    =      7.0 : 1.0\n",
      "gin+jus_citrons+jus_doranges = True              pos : neg    =      7.0 : 1.0\n",
      "                     vin = True              neg : pos    =      6.6 : 1.0\n",
      "eau_gazeuse_(perrier,_salvetat)+menthe = True              neg : pos    =      6.6 : 1.0\n",
      "         citrons+oranges = True              neg : pos    =      6.4 : 1.0\n",
      "jus_doranges+rhum_blanc+sirop_sucre_canne = True              neg : pos    =      6.4 : 1.0\n"
     ]
    }
   ],
   "source": [
    "# find word scores\n",
    "word_scores = create_word_scores()\n",
    "\n",
    "# numbers of features to select\n",
    "print('using all words as features')\n",
    "evaluate_features(make_full_dict, None)"
   ]
  },
  {
   "cell_type": "code",
   "execution_count": 10,
   "metadata": {
    "collapsed": false
   },
   "outputs": [
    {
     "name": "stdout",
     "output_type": "stream",
     "text": [
      "evaluating best 100 word features\n",
      "train on 3378 instances, test on 1128 instances\n",
      "accuracy: 0.5452127659574468\n",
      "Most Informative Features\n",
      "            vin_mousseux = True              neg : pos    =      8.6 : 1.0\n",
      "      rhum_blanc+vanille = True              neg : pos    =      8.4 : 1.0\n",
      "           chocolat+lait = True              pos : neg    =      8.3 : 1.0\n",
      "gin+jus_citrons+jus_doranges = True              pos : neg    =      7.0 : 1.0\n",
      "                     vin = True              neg : pos    =      6.6 : 1.0\n",
      "jus_doranges+rhum_blanc+sirop_sucre_canne = True              neg : pos    =      6.4 : 1.0\n",
      "                chocolat = True              pos : neg    =      6.2 : 1.0\n",
      "                  safari = True              pos : neg    =      5.8 : 1.0\n",
      "jus_pamplemousses+rhum_blanc = True              neg : pos    =      5.4 : 1.0\n",
      "liqueur_dabricots_(abricot_brandy)+vermouth_blanc_(martini,_cinzano) = True              pos : neg    =      5.0 : 1.0\n",
      "_________________________________________________________________\n",
      "press a key to continue...\n",
      "evaluating best 1000 word features\n",
      "train on 3378 instances, test on 1128 instances\n",
      "accuracy: 0.6347517730496454\n",
      "Most Informative Features\n",
      "            vin_mousseux = True              neg : pos    =      8.6 : 1.0\n",
      "      rhum_blanc+vanille = True              neg : pos    =      8.4 : 1.0\n",
      "champagne+sirop_sucre_canne = True              neg : pos    =      8.4 : 1.0\n",
      "           chocolat+lait = True              pos : neg    =      8.3 : 1.0\n",
      "                vin_rosé = True              neg : pos    =      7.0 : 1.0\n",
      "gin+jus_citrons+jus_doranges = True              pos : neg    =      7.0 : 1.0\n",
      "eau_gazeuse_(perrier,_salvetat)+menthe = True              neg : pos    =      6.6 : 1.0\n",
      "                     vin = True              neg : pos    =      6.6 : 1.0\n",
      "jus_doranges+rhum_blanc+sirop_sucre_canne = True              neg : pos    =      6.4 : 1.0\n",
      "         citrons+oranges = True              neg : pos    =      6.4 : 1.0\n",
      "_________________________________________________________________\n",
      "press a key to continue...\n",
      "evaluating best 2000 word features\n",
      "train on 3378 instances, test on 1128 instances\n",
      "accuracy: 0.6400709219858156\n",
      "Most Informative Features\n",
      "            vin_mousseux = True              neg : pos    =      8.6 : 1.0\n",
      "      rhum_blanc+vanille = True              neg : pos    =      8.4 : 1.0\n",
      "champagne+sirop_sucre_canne = True              neg : pos    =      8.4 : 1.0\n",
      "           chocolat+lait = True              pos : neg    =      8.3 : 1.0\n",
      "                vin_rosé = True              neg : pos    =      7.0 : 1.0\n",
      "gin+jus_citrons+jus_doranges = True              pos : neg    =      7.0 : 1.0\n",
      "eau_gazeuse_(perrier,_salvetat)+menthe = True              neg : pos    =      6.6 : 1.0\n",
      "                     vin = True              neg : pos    =      6.6 : 1.0\n",
      "jus_doranges+rhum_blanc+sirop_sucre_canne = True              neg : pos    =      6.4 : 1.0\n",
      "         citrons+oranges = True              neg : pos    =      6.4 : 1.0\n",
      "_________________________________________________________________\n",
      "press a key to continue...\n",
      "evaluating best 4000 word features\n",
      "train on 3378 instances, test on 1128 instances\n",
      "accuracy: 0.7109929078014184\n",
      "Most Informative Features\n",
      "            vin_mousseux = True              neg : pos    =      8.6 : 1.0\n",
      "      rhum_blanc+vanille = True              neg : pos    =      8.4 : 1.0\n",
      "champagne+sirop_sucre_canne = True              neg : pos    =      8.4 : 1.0\n",
      "           chocolat+lait = True              pos : neg    =      8.3 : 1.0\n",
      "                vin_rosé = True              neg : pos    =      7.0 : 1.0\n",
      "gin+jus_citrons+jus_doranges = True              pos : neg    =      7.0 : 1.0\n",
      "eau_gazeuse_(perrier,_salvetat)+menthe = True              neg : pos    =      6.6 : 1.0\n",
      "                     vin = True              neg : pos    =      6.6 : 1.0\n",
      "jus_doranges+rhum_blanc+sirop_sucre_canne = True              neg : pos    =      6.4 : 1.0\n",
      "rhum_blanc+sucre_roux_(cassonade) = True              neg : pos    =      6.4 : 1.0\n",
      "_________________________________________________________________\n",
      "press a key to continue...\n",
      "evaluating best 6000 word features\n",
      "train on 3378 instances, test on 1128 instances\n",
      "accuracy: 0.7189716312056738\n",
      "Most Informative Features\n",
      "            vin_mousseux = True              neg : pos    =      8.6 : 1.0\n",
      "      rhum_blanc+vanille = True              neg : pos    =      8.4 : 1.0\n",
      "champagne+sirop_sucre_canne = True              neg : pos    =      8.4 : 1.0\n",
      "           chocolat+lait = True              pos : neg    =      8.3 : 1.0\n",
      "                vin_rosé = True              neg : pos    =      7.0 : 1.0\n",
      "gin+jus_citrons+jus_doranges = True              pos : neg    =      7.0 : 1.0\n",
      "eau_gazeuse_(perrier,_salvetat)+menthe = True              neg : pos    =      6.6 : 1.0\n",
      "                     vin = True              neg : pos    =      6.6 : 1.0\n",
      "jus_doranges+rhum_blanc+sirop_sucre_canne = True              neg : pos    =      6.4 : 1.0\n",
      "rhum_blanc+sucre_roux_(cassonade) = True              neg : pos    =      6.4 : 1.0\n",
      "_________________________________________________________________\n",
      "press a key to continue...\n",
      "evaluating best 8000 word features\n",
      "train on 3378 instances, test on 1128 instances\n",
      "accuracy: 0.7189716312056738\n",
      "Most Informative Features\n",
      "            vin_mousseux = True              neg : pos    =      8.6 : 1.0\n",
      "      rhum_blanc+vanille = True              neg : pos    =      8.4 : 1.0\n",
      "champagne+sirop_sucre_canne = True              neg : pos    =      8.4 : 1.0\n",
      "           chocolat+lait = True              pos : neg    =      8.3 : 1.0\n",
      "                vin_rosé = True              neg : pos    =      7.0 : 1.0\n",
      "gin+jus_citrons+jus_doranges = True              pos : neg    =      7.0 : 1.0\n",
      "eau_gazeuse_(perrier,_salvetat)+menthe = True              neg : pos    =      6.6 : 1.0\n",
      "                     vin = True              neg : pos    =      6.6 : 1.0\n",
      "jus_doranges+rhum_blanc+sirop_sucre_canne = True              neg : pos    =      6.4 : 1.0\n",
      "rhum_blanc+sucre_roux_(cassonade) = True              neg : pos    =      6.4 : 1.0\n",
      "_________________________________________________________________\n",
      "press a key to continue...\n"
     ]
    }
   ],
   "source": [
    "\n",
    "\n",
    "numbers_to_test = [100, 1000, 2000, 4000, 6000, 8000]\n",
    "# tries the best_word_features mechanism with each of the numbers_to_test of features\n",
    "for num in numbers_to_test:\n",
    "    print('evaluating best %d word features' % (num))\n",
    "    best_words = find_best_words(word_scores, num)\n",
    "    evaluate_features(best_word_features, best_words)\n",
    "    print('_________________________________________________________________')\n",
    "    input('press a key to continue...')"
   ]
  }
 ],
 "metadata": {
  "kernelspec": {
   "display_name": "Python 3",
   "language": "python",
   "name": "python3"
  },
  "language_info": {
   "codemirror_mode": {
    "name": "ipython",
    "version": 3
   },
   "file_extension": ".py",
   "mimetype": "text/x-python",
   "name": "python",
   "nbconvert_exporter": "python",
   "pygments_lexer": "ipython3",
   "version": "3.4.3"
  }
 },
 "nbformat": 4,
 "nbformat_minor": 1
}
