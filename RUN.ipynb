{
 "cells": [
  {
   "cell_type": "code",
   "execution_count": null,
   "metadata": {
    "collapsed": false
   },
   "outputs": [],
   "source": [
    "from utils import *\n",
    "import numpy as np\n",
    "\n",
    "NEG_FILE = 'data/neg.txt'\n",
    "POS_FILE = 'data/pos.txt'\n",
    "remove_if_any(POS_FILE)\n",
    "remove_if_any(NEG_FILE)"
   ]
  },
  {
   "cell_type": "code",
   "execution_count": null,
   "metadata": {
    "collapsed": false
   },
   "outputs": [],
   "source": [
    "recipes = get_recipe_and_rating(get_cocktail_list())"
   ]
  },
  {
   "cell_type": "code",
   "execution_count": null,
   "metadata": {
    "collapsed": false
   },
   "outputs": [],
   "source": [
    "# Save only text descriptions.\n",
    "descriptions = []\n",
    "for recipe in recipes:\n",
    "    descriptions.append('. '.join([v[2] for v in recipe[3]]))\n",
    "\n",
    "print('BEFORE')\n",
    "print(recipes[0])\n",
    "print('AFTER')\n",
    "print(descriptions[0])"
   ]
  },
  {
   "cell_type": "code",
   "execution_count": null,
   "metadata": {
    "collapsed": false
   },
   "outputs": [],
   "source": [
    "labels = np.array([v[1] for v in recipes])\n",
    "mean_label = np.mean(labels.flatten())\n",
    "print(mean_label)"
   ]
  },
  {
   "cell_type": "code",
   "execution_count": null,
   "metadata": {
    "collapsed": false
   },
   "outputs": [],
   "source": [
    "for i in range((len(labels))):\n",
    "    if labels[i] > mean_label:\n",
    "        write_to_file(POS_FILE, descriptions[i])\n",
    "    else:\n",
    "        write_to_file(NEG_FILE, descriptions[i])"
   ]
  },
  {
   "cell_type": "code",
   "execution_count": null,
   "metadata": {
    "collapsed": false
   },
   "outputs": [],
   "source": [
    "print(open(POS_FILE, 'r').readlines()[0]) # FOR ONE COCKTAIL."
   ]
  },
  {
   "cell_type": "code",
   "execution_count": null,
   "metadata": {
    "collapsed": true
   },
   "outputs": [],
   "source": [
    "TUPLE_LENGTH = 10\n",
    "\n",
    "for filename in [POS_FILE, NEG_FILE]:\n",
    "    if TUPLE_LENGTH > 1:\n",
    "        read_and_write(filename, filename + '.w', tuple_length=TUPLE_LENGTH)\n",
    "        os.rename(filename + '.w', filename)\n"
   ]
  },
  {
   "cell_type": "code",
   "execution_count": null,
   "metadata": {
    "collapsed": false
   },
   "outputs": [],
   "source": [
    "print(open(POS_FILE, 'r').readlines()[0]) # FOR ONE COCKTAIL. ALL POSSIBLE COMBINATIONS."
   ]
  },
  {
   "cell_type": "code",
   "execution_count": null,
   "metadata": {
    "collapsed": false
   },
   "outputs": [],
   "source": [
    "# find word scores\n",
    "word_scores = create_word_scores()\n",
    "\n",
    "# numbers of features to select\n",
    "print('using all words as features')\n",
    "evaluate_features(make_full_dict, None)"
   ]
  },
  {
   "cell_type": "code",
   "execution_count": null,
   "metadata": {
    "collapsed": false
   },
   "outputs": [],
   "source": [
    "numbers_to_test = [100, 1000, 2000, 4000, 6000, 8000]\n",
    "# tries the best_word_features mechanism with each of the numbers_to_test of features\n",
    "for num in numbers_to_test:\n",
    "    print('evaluating best %d word features' % (num))\n",
    "    best_words = find_best_words(word_scores, num)\n",
    "    evaluate_features(best_word_features, best_words)\n",
    "    print('_________________________________________________________________')\n",
    "    input('press a key to continue...')"
   ]
  }
 ],
 "metadata": {
  "kernelspec": {
   "display_name": "Python 3",
   "language": "python",
   "name": "python3"
  },
  "language_info": {
   "codemirror_mode": {
    "name": "ipython",
    "version": 3
   },
   "file_extension": ".py",
   "mimetype": "text/x-python",
   "name": "python",
   "nbconvert_exporter": "python",
   "pygments_lexer": "ipython3",
   "version": "3.4.3"
  }
 },
 "nbformat": 4,
 "nbformat_minor": 1
}
